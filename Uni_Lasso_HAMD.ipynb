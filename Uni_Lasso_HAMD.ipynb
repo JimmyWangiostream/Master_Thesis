{
 "cells": [
  {
   "cell_type": "code",
   "execution_count": 1,
   "id": "9767c543",
   "metadata": {},
   "outputs": [
    {
     "name": "stdout",
     "output_type": "stream",
     "text": [
      "Counting the type B_1\n",
      "attender size: (483, 1)\n",
      "-----------------------------------------------\n",
      "===============================================\n",
      "Counting the type B_2\n",
      "attender size: (492, 1)\n",
      "-----------------------------------------------\n",
      "===============================================\n",
      "Counting the type C\n",
      "attender size: (400, 1)\n",
      "-----------------------------------------------\n",
      "===============================================\n",
      "Counting the type D\n",
      "attender size: (366, 1)\n",
      "-----------------------------------------------\n",
      "===============================================\n",
      "Counting the type E\n",
      "attender size: (335, 1)\n",
      "-----------------------------------------------\n",
      "===============================================\n",
      "BD attenders: 201\n",
      "max (56,)\n",
      "min (56,)\n",
      "res: (201, 56)\n",
      "x: (201, 56)\n",
      "label: (201, 8)\n",
      "res (201, 56) (201, 8)\n"
     ]
    }
   ],
   "source": [
    "import load_data\n",
    "import feature_attender\n",
    "from sklearn.linear_model import LassoCV\n",
    "from sklearn import linear_model\n",
    "from sklearn.metrics import mean_absolute_error\n",
    "\n",
    "'''select  grp(BD orHC)\n",
    "feature_types is the input features you want\n",
    "B_1 is Dass-21 \n",
    "B_2 is Altman\n",
    "C is daily valence\n",
    "E is daily 7 emotions\n",
    "'''\n",
    "dir_grp = 'BD'\n",
    "feature_types = ['B_1','B_2','C','D','E']\n",
    "attenders = feature_attender.get_wanna_attender(dir_grp,feature_types)\n",
    "\n",
    "print(dir_grp,'attenders:',len(attenders))\n",
    "# get input feature and scale (target_scale = 'ymrs' or 'hamd')\n",
    "# each scale label is 8 dimension (7 factor and 1 total score of HAMD)\n",
    "x, label = load_data.loading_data(dir_grp,attenders,feature_types,target_scale='hamd')\n",
    "print('res', x.shape, label.shape)\n",
    "\n"
   ]
  },
  {
   "cell_type": "markdown",
   "id": "791b1e71",
   "metadata": {},
   "source": [
    "extract factors"
   ]
  },
  {
   "cell_type": "code",
   "execution_count": 2,
   "id": "8795a6e7",
   "metadata": {},
   "outputs": [],
   "source": [
    "def neg_zero( L):\n",
    "    for i in range( len(L)):\n",
    "        if L[i] < 0:\n",
    "            L[i] = 0\n",
    "    return L"
   ]
  },
  {
   "cell_type": "code",
   "execution_count": 3,
   "id": "3f89c898",
   "metadata": {},
   "outputs": [],
   "source": [
    "\n",
    "def get_alpha(x_,h_):\n",
    "    global alpha_\n",
    "    global check\n",
    "    x_train = np.nan_to_num( x_)\n",
    "    y_train = h_\n",
    "    lassoCV = LassoCV(cv=10)\n",
    "    lassoCV.fit( x_train, y_train)\n",
    "    alpha_ = lassoCV.alpha_\n",
    "    return alpha_\n",
    "\n",
    "def Lasso_Regression(X_train,target):\n",
    "    model = linear_model.Lasso(alpha=get_alpha(X_train,target))\n",
    "    model.fit(X_train,target)\n",
    "    return model"
   ]
  },
  {
   "cell_type": "markdown",
   "id": "2886a950",
   "metadata": {},
   "source": [
    "5-fold "
   ]
  },
  {
   "cell_type": "code",
   "execution_count": 4,
   "id": "af755515",
   "metadata": {},
   "outputs": [
    {
     "name": "stdout",
     "output_type": "stream",
     "text": [
      "X train: (160, 56)\n",
      "X test: (41, 56)\n",
      "Y train: (160, 8)\n",
      "Y test: (41, 8)\n",
      "X train: (161, 56)\n",
      "X test: (40, 56)\n",
      "Y train: (161, 8)\n",
      "Y test: (40, 8)\n",
      "X train: (161, 56)\n",
      "X test: (40, 56)\n",
      "Y train: (161, 8)\n",
      "Y test: (40, 8)\n",
      "X train: (161, 56)\n",
      "X test: (40, 56)\n",
      "Y train: (161, 8)\n",
      "Y test: (40, 8)\n",
      "X train: (161, 56)\n",
      "X test: (40, 56)\n",
      "Y train: (161, 8)\n",
      "Y test: (40, 8)\n",
      "core: 0.86 ± 0.09\n",
      "c_core: 0.60 ± 0.03\n",
      "s: 0.62 ± 0.04\n",
      "a: 0.42 ± 0.04\n",
      "pa: 0.56 ± 0.06\n",
      "sa: 0.65 ± 0.08\n",
      "d: 0.57 ± 0.05\n",
      "ts: 1.92 ± 0.19\n"
     ]
    }
   ],
   "source": [
    "import numpy as np\n",
    "from sklearn.model_selection import KFold\n",
    "kf = KFold(n_splits=5, random_state=None, shuffle=True)\n",
    "core_mae = []\n",
    "c_core_mae = []\n",
    "s_mae = []\n",
    "a_mae = []\n",
    "pa_mae = []\n",
    "sa_mae = []\n",
    "d_mae = []\n",
    "ts_mae = []\n",
    "#weight\n",
    "core_w = []\n",
    "c_core_w = []\n",
    "s_w = []\n",
    "a_w = []\n",
    "pa_w = []\n",
    "sa_w = []\n",
    "d_w = []\n",
    "ts_w = []\n",
    "\n",
    "for train_index, test_index in kf.split(x):\n",
    "    X_test =  x[test_index]\n",
    "    y_test =  label[test_index]\n",
    "    \n",
    "    X_train =  x[train_index]\n",
    "    y_train =  label[train_index]\n",
    "\n",
    "    #\n",
    "    print('X train:',X_train.shape)\n",
    "    print('X test:',X_test.shape)\n",
    "    print('Y train:',y_train.shape)\n",
    "    print('Y test:',y_test.shape)\n",
    "    core_train = y_train[:,0]\n",
    "    c_core_train = y_train[:,1]\n",
    "    s_train = y_train[:,2]\n",
    "    a_train = y_train[:,3]\n",
    "    pa_train = y_train[:,4]\n",
    "    sa_train = y_train[:,5]\n",
    "    d_train = y_train[:,6]\n",
    "    ts_train = y_train[:,7]\n",
    "    \n",
    "    core_test = y_test[:,0]\n",
    "    c_core_test = y_test[:,1]\n",
    "    s_test = y_test[:,2]\n",
    "    a_test = y_test[:,3]\n",
    "    pa_test = y_test[:,4]\n",
    "    sa_test = y_test[:,5]\n",
    "    d_test = y_test[:,6]\n",
    "    ts_test = y_test[:,7]\n",
    "\n",
    "    #train\n",
    "    model1 = Lasso_Regression(X_train,core_train)\n",
    "    model2 = Lasso_Regression(X_train,c_core_train)\n",
    "    model3 = Lasso_Regression(X_train,s_train)\n",
    "    model4 = Lasso_Regression(X_train,a_train)\n",
    "    model5 = Lasso_Regression(X_train,pa_train)\n",
    "    model6 = Lasso_Regression(X_train,sa_train)\n",
    "    model7 = Lasso_Regression(X_train,d_train)\n",
    "    model8 = Lasso_Regression(X_train,ts_train)\n",
    "    core_w.append(model1.coef_)\n",
    "    c_core_w.append(model2.coef_)\n",
    "    s_w.append(model3.coef_)\n",
    "    a_w.append(model4.coef_)\n",
    "    pa_w.append(model5.coef_)\n",
    "    sa_w.append(model6.coef_)\n",
    "    d_w.append(model7.coef_)\n",
    "    ts_w.append(model8.coef_)\n",
    "    #eva\n",
    "    predict_y = model1.predict( X_test)\n",
    "    predict_core = np.array(predict_y).astype(int)\n",
    "    predict_y = model2.predict( X_test)\n",
    "    predict_c_core = np.array(predict_y).astype(int)\n",
    "    predict_y = model3.predict( X_test)\n",
    "    predict_s = np.array(predict_y).astype(int)\n",
    "    predict_y = model4.predict( X_test)\n",
    "    predict_a = np.array(predict_y).astype(int)\n",
    "    predict_y = model5.predict( X_test)\n",
    "    predict_pa = np.array(predict_y).astype(int)\n",
    "    predict_y = model6.predict( X_test)\n",
    "    predict_sa = np.array(predict_y).astype(int)\n",
    "    predict_y = model7.predict( X_test)\n",
    "    predict_d = np.array(predict_y).astype(int)\n",
    "    predict_y = model8.predict( X_test)\n",
    "    predict_ts = np.array(predict_y).astype(int)\n",
    "    \n",
    "    core_rmae = mean_absolute_error( core_test, model1.predict( X_test))\n",
    "    c_core_rmae = mean_absolute_error( c_core_test, model2.predict( X_test))\n",
    "    s_rmae = mean_absolute_error( s_test, model3.predict( X_test))\n",
    "    a_rmae = mean_absolute_error( a_test, model4.predict( X_test))\n",
    "    pa_rmae = mean_absolute_error( pa_test, model5.predict( X_test))\n",
    "    sa_rmae = mean_absolute_error( sa_test, model6.predict( X_test))\n",
    "    d_rmae = mean_absolute_error( d_test, model7.predict( X_test))\n",
    "    ts_rmae = mean_absolute_error( ts_test, model8.predict( X_test))\n",
    "    \n",
    "    core_mae.append(core_rmae)\n",
    "    c_core_mae.append(c_core_rmae)\n",
    "    s_mae.append(s_rmae)\n",
    "    a_mae.append(a_rmae)\n",
    "    pa_mae.append(pa_rmae)\n",
    "    sa_mae.append(sa_rmae)\n",
    "    d_mae.append(d_rmae)\n",
    "    ts_mae.append(ts_rmae)\n",
    "core_mean = sum(core_mae) / len(core_mae)\n",
    "core_std = np.std(core_mae)\n",
    "print('core: %.2f ± %.2f' % (core_mean, core_std))\n",
    "c_core_mean = sum(c_core_mae) / len(c_core_mae)\n",
    "c_core_std = np.std(c_core_mae)\n",
    "print('c_core: %.2f ± %.2f' % (c_core_mean, c_core_std))\n",
    "s_mean = sum(s_mae) / len(s_mae)\n",
    "s_std = np.std(s_mae)\n",
    "print('s: %.2f ± %.2f' % (s_mean, s_std))\n",
    "a_mean = sum(a_mae) / len(a_mae)\n",
    "a_std = np.std(a_mae)\n",
    "print('a: %.2f ± %.2f' % (a_mean, a_std))\n",
    "pa_mean = sum(pa_mae) / len(pa_mae)\n",
    "pa_std = np.std(pa_mae)\n",
    "print('pa: %.2f ± %.2f' % (pa_mean, pa_std))\n",
    "sa_mean = sum(sa_mae) / len(sa_mae)\n",
    "sa_std = np.std(sa_mae)\n",
    "print('sa: %.2f ± %.2f' % (sa_mean, sa_std))\n",
    "d_mean = sum(d_mae) / len(d_mae)\n",
    "d_std = np.std(d_mae)\n",
    "print('d: %.2f ± %.2f' % (d_mean, d_std))\n",
    "\n",
    "ts_mean = sum(ts_mae) / len(ts_mae)\n",
    "ts_std = np.std(ts_mae)\n",
    "print('ts: %.2f ± %.2f' % (ts_mean, ts_std))"
   ]
  },
  {
   "cell_type": "markdown",
   "id": "b00318dd",
   "metadata": {},
   "source": [
    "Multi-task learning"
   ]
  },
  {
   "cell_type": "code",
   "execution_count": 5,
   "id": "e098fb5b",
   "metadata": {},
   "outputs": [
    {
     "name": "stdout",
     "output_type": "stream",
     "text": [
      "Avg: 0.78 ± 0.46\n"
     ]
    }
   ],
   "source": [
    "Avg_mae = np.concatenate([core_mae,c_core_mae,s_mae,a_mae,pa_mae,sa_mae,d_mae,ts_mae])\n",
    "#print(Avg_mae)\n",
    "print('Avg: %.2f ± %.2f' % (sum(Avg_mae)/len(Avg_mae),np.std(Avg_mae)))"
   ]
  },
  {
   "cell_type": "markdown",
   "id": "f75d0a80",
   "metadata": {},
   "source": [
    "draw model structure"
   ]
  },
  {
   "cell_type": "code",
   "execution_count": 6,
   "id": "e601a997",
   "metadata": {},
   "outputs": [
    {
     "name": "stdout",
     "output_type": "stream",
     "text": [
      "Avg: 0.61 ± 0.14\n"
     ]
    }
   ],
   "source": [
    "Avg_mae = np.concatenate([core_mae,c_core_mae,s_mae,a_mae,pa_mae,sa_mae,d_mae])\n",
    "#print(Avg_mae)\n",
    "print('Avg: %.2f ± %.2f' % (sum(Avg_mae)/len(Avg_mae),np.std(Avg_mae)))"
   ]
  },
  {
   "cell_type": "markdown",
   "id": "222b5c6b",
   "metadata": {},
   "source": [
    "training"
   ]
  },
  {
   "cell_type": "code",
   "execution_count": 7,
   "id": "88462cce",
   "metadata": {},
   "outputs": [],
   "source": [
    "f_core_w = np.mean(core_w, axis=0)\n",
    "f_c_core_w = np.mean(c_core_w, axis=0)\n",
    "f_s_w = np.mean(s_w, axis=0)\n",
    "f_a_w = np.mean(a_w, axis=0)\n",
    "f_pa_w = np.mean(pa_w, axis=0)\n",
    "f_sa_w = np.mean(sa_w, axis=0)\n",
    "f_d_w = np.mean(d_w, axis=0)\n",
    "f_ts_w = np.mean(ts_w, axis=0)"
   ]
  },
  {
   "cell_type": "code",
   "execution_count": 8,
   "id": "e49ffda1",
   "metadata": {},
   "outputs": [],
   "source": [
    "import matplotlib.pyplot as plt"
   ]
  },
  {
   "cell_type": "code",
   "execution_count": 10,
   "id": "f78b71e1",
   "metadata": {},
   "outputs": [
    {
     "data": {
      "image/png": "[encoded data removed]",
      "text/plain": [
       "<Figure size 432x288 with 1 Axes>"
      ]
     },
     "metadata": {
      "needs_background": "light"
     },
     "output_type": "display_data"
    }
   ],
   "source": [
    "import numpy as np\n",
    "import matplotlib.pyplot as plt\n",
    "from mpl_toolkits.mplot3d import Axes3D\n",
    "\n",
    "\n",
    "fig = plt.figure('graph')\n",
    "ax = fig.add_subplot(111, projection='3d') \n",
    "\n",
    "ax.set_title(r'weights of feature in every factor')\n",
    "x_axis = np.arange(1,57,1)\n",
    "#plt.plot(x_axis , f_s_w ,color = 'b', label=\"sleep\")\n",
    "factor_dim = np.full(56,1)\n",
    "ax.plot(factor_dim, x_axis , f_core_w, linewidth=1, label=r'core')\n",
    "factor_dim = np.full(56,3)\n",
    "ax.plot(factor_dim, x_axis , f_c_core_w, linewidth=1, label=r'c_core')\n",
    "factor_dim = np.full(56,5)\n",
    "ax.plot(factor_dim, x_axis , f_s_w, linewidth=1, label=r'sleep')\n",
    "factor_dim = np.full(56,7)\n",
    "ax.plot(factor_dim, x_axis , f_a_w, linewidth=1, label=r'activity')\n",
    "factor_dim = np.full(56,9)\n",
    "ax.plot(factor_dim, x_axis , f_pa_w, linewidth=1, label=r'psychic anxiety')\n",
    "factor_dim = np.full(56,11)\n",
    "ax.plot(factor_dim, x_axis , f_sa_w, linewidth=1, label=r'somatic anxiety')\n",
    "factor_dim = np.full(56,13)\n",
    "ax.plot(factor_dim, x_axis , f_d_w, linewidth=1, label=r'delusopn')\n",
    "factor_dim = np.full(56,15)\n",
    "ax.plot(factor_dim, x_axis , f_ts_w, linewidth=1, label=r'total score')\n",
    "\n",
    "ax.set_ylim(1, 57)\n",
    "ax.set_xlim(1, 15)\n",
    "ax.legend(loc=5)\n",
    "ax.set_xlabel('factor')\n",
    "ax.set_ylabel('the dimension of feature')\n",
    "ax.set_zlabel('weight')\n",
    "#ax.text(0, 0, 0, 'x')  # (0,0,0)\n",
    "ax.view_init(0,0)\n",
    "#该函数接受两个参数，第一个参数是竖直旋转，第二个参数是水平旋转，旋转单位是度°\n",
    "#ax.view_init(30, -60)\n",
    "ax.set_xticks([]) \n",
    "ax.view_init(30, 30)\n",
    "plt.show()"
   ]
  },
  {
   "cell_type": "code",
   "execution_count": 13,
   "id": "6a39dc1d",
   "metadata": {},
   "outputs": [],
   "source": [
    "def avg_of_w_in_type(weight):\n",
    "    abs_weights = np.absolute(weight)\n",
    "    dimension_in_feature=[28,2,12,14]\n",
    "    res_weight=np.zeros(len(dimension_in_feature))\n",
    "    idx=0\n",
    "    for d in range(len(dimension_in_feature)):\n",
    "        if idx!=0:\n",
    "            idx+=1\n",
    "        for i in range(0,dimension_in_feature[d]):\n",
    "            res_weight[d]+=abs_weights[idx+i]\n",
    "        res_weight[d]/=dimension_in_feature[d]\n",
    "        idx+=dimension_in_feature[d]-1\n",
    "    print(res_weight)\n",
    "    return res_weight"
   ]
  },
  {
   "cell_type": "code",
   "execution_count": 14,
   "id": "fd2f24d6",
   "metadata": {},
   "outputs": [
    {
     "name": "stdout",
     "output_type": "stream",
     "text": [
      "[0.17927405 0.31050944 0.00284694 0.03925719]\n",
      "res [0.17927405 0.31050944 0.00284694 0.03925719]\n",
      "[0.17364551 0.25488963 0.00968627 0.04769963]\n",
      "[0.05122083 0.12161334 0.00351521 0.01762886]\n",
      "[0.03003256 0.         0.         0.00411057]\n",
      "[3.81588364e-02 0.00000000e+00 5.42356545e-06 8.56233918e-03]\n",
      "[0.11062342 0.15325827 0.07073959 0.00706261]\n",
      "[0.11062342 0.15325827 0.07073959 0.00706261]\n",
      "[0.28963087 0.96519782 0.022945   0.04510088]\n"
     ]
    },
    {
     "data": {
      "image/png": "[encoded data removed]",
      "text/plain": [
       "<Figure size 432x288 with 1 Axes>"
      ]
     },
     "metadata": {
      "needs_background": "light"
     },
     "output_type": "display_data"
    }
   ],
   "source": [
    "import numpy as np\n",
    "import matplotlib.pyplot as plt\n",
    "from mpl_toolkits.mplot3d import Axes3D\n",
    "\n",
    "\n",
    "fig = plt.figure('graph')\n",
    "ax = fig.add_subplot(111, projection='3d') \n",
    "\n",
    "ax.set_title(r'avg of abs weights of feature type in every factor')\n",
    "res_each_factor=[]\n",
    "#plt.plot(x_axis , f_s_w ,color = 'b', label=\"sleep\")\n",
    "x_axis = np.arange(1,5,1)\n",
    "\n",
    "factor_dim = np.full(4,1)\n",
    "\n",
    "res = avg_of_w_in_type(f_core_w)\n",
    "res_each_factor.append(res)\n",
    "print('res',res)\n",
    "ax.plot(factor_dim, x_axis , res, linewidth=1, label=r'core')\n",
    "\n",
    "factor_dim = np.full(4,1.5)\n",
    "res = avg_of_w_in_type(f_c_core_w)\n",
    "res_each_factor.append(res)\n",
    "ax.plot(factor_dim, x_axis , res, linewidth=1, label=r'c_core')\n",
    "\n",
    "factor_dim = np.full(4,2)\n",
    "res = avg_of_w_in_type(f_s_w)\n",
    "res_each_factor.append(res)\n",
    "ax.plot(factor_dim, x_axis , res, linewidth=1, label=r'sleep')\n",
    "\n",
    "factor_dim = np.full(4,2.5)\n",
    "res = avg_of_w_in_type(f_a_w)\n",
    "res_each_factor.append(res)\n",
    "ax.plot(factor_dim, x_axis , res, linewidth=1, label=r'activity')\n",
    "\n",
    "factor_dim = np.full(4,3)\n",
    "res = avg_of_w_in_type(f_pa_w)\n",
    "res_each_factor.append(res)                      \n",
    "ax.plot(factor_dim, x_axis , res, linewidth=1, label=r'psychic anxiety')\n",
    "\n",
    "factor_dim = np.full(4,3.5)\n",
    "res = avg_of_w_in_type(f_sa_w)\n",
    "res_each_factor.append(res)                       \n",
    "ax.plot(factor_dim, x_axis , res, linewidth=1, label=r'somatic anxiety')\n",
    "\n",
    "factor_dim = np.full(4,4)\n",
    "res = avg_of_w_in_type(f_sa_w)\n",
    "res_each_factor.append(res)\n",
    "ax.plot(factor_dim, x_axis , res, linewidth=1, label=r'delusopn')\n",
    "\n",
    "factor_dim = np.full(4,4.5)\n",
    "res = avg_of_w_in_type(f_ts_w)\n",
    "res_each_factor.append(res)\n",
    "ax.plot(factor_dim, x_axis , res, linewidth=1, label=r'total score')\n",
    "\n",
    "#ax.legend(loc=1)\n",
    "ax.set_xlabel('factor')\n",
    "ax.set_ylabel('feature type')\n",
    "ax.set_zlabel('avg of abs weight')\n",
    "#ax.text(0, 0, 0, 'x')  # (0,0,0)\n",
    "ax.view_init(0,0)\n",
    "\n",
    "ax.set_ylim(0, 4)\n",
    "#ax.legend(loc=1)\n",
    "ax.set_xlabel('factor')\n",
    "ax.set_ylabel('feature type')\n",
    "ax.set_zlabel('avg of abs weights')\n",
    "#ax.text(0, 0, 0, 'x')  # (0,0,0)\n",
    "ax.view_init(0,0)\n",
    "#该函数接受两个参数，第一个参数是竖直旋转，第二个参数是水平旋转，旋转单位是度°\n",
    "ax.set_xticks([])\n",
    "ax.set_yticks((0,1,2,3,4))\n",
    "ax.set_yticklabels((\" \",\"B\",\"C\",\"D\",\"E\"))\n",
    "ax.view_init(30, 30) \n",
    "plt.show()"
   ]
  },
  {
   "cell_type": "code",
   "execution_count": null,
   "id": "5a28b63e",
   "metadata": {},
   "outputs": [],
   "source": []
  },
  {
   "cell_type": "code",
   "execution_count": null,
   "id": "34717f49",
   "metadata": {},
   "outputs": [],
   "source": [
    "import numpy as np\n",
    "import matplotlib.pyplot as plt\n",
    "from mpl_toolkits.mplot3d import Axes3D\n",
    "\n",
    "fig = plt.figure('graph')\n",
    "ax = fig.add_subplot(111, projection='3d') \n",
    "\n",
    "ax.set_title(r'avg of abs weights of feature type in every factor')\n",
    "\n",
    "res_each_factor=[]\n",
    "#plt.plot(x_axis , f_s_w ,color = 'b', label=\"sleep\")\n",
    "x_axis = np.arange(1,5,1)\n",
    "\n",
    "factor_dim = np.full(4,1)\n",
    "res = avg_of_w_in_type(f_pm_w)\n",
    "res_each_factor.append(res)\n",
    "ax.plot(factor_dim, x_axis , res, linewidth=1, label=r'psychotic mania')\n",
    "factor_dim = np.full(4,1.5)\n",
    "res = avg_of_w_in_type(f_im_w)\n",
    "res_each_factor.append(res)\n",
    "ax.plot(factor_dim, x_axis , res, linewidth=1, label=r'irritable mania')\n",
    "factor_dim = np.full(4,2)\n",
    "res = avg_of_w_in_type(f_em_w)\n",
    "res_each_factor.append(res)\n",
    "ax.plot(factor_dim, x_axis , res, linewidth=1, label=r'elated mania')\n",
    "factor_dim = np.full(4,2.5)\n",
    "res = avg_of_w_in_type(f_ts_w)\n",
    "res_each_factor.append(res)\n",
    "ax.plot(factor_dim, x_axis , res, linewidth=1, label=r'total score')\n",
    "\n",
    "ax.set_ylim(0, 4)\n",
    "#ax.legend(loc=1)\n",
    "ax.set_xlabel('factor')\n",
    "ax.set_ylabel('feature type')\n",
    "ax.set_zlabel('avg of abs weights')\n",
    "#ax.text(0, 0, 0, 'x')  # (0,0,0)\n",
    "ax.view_init(0,0)\n",
    "#该函数接受两个参数，第一个参数是竖直旋转，第二个参数是水平旋转，旋转单位是度°\n",
    "ax.set_xticks([])\n",
    "ax.set_yticks((0,1,2,3,4))\n",
    "ax.set_yticklabels((\" \",\"B\",\"C\",\"D\",\"E\"))\n",
    "ax.view_init(30, 30)\n",
    "#plt.savefig('facotor_result/ymrs_3d'+file_grp+'.png') \n",
    "plt.show()"
   ]
  },
  {
   "cell_type": "code",
   "execution_count": null,
   "id": "bcf4ab30",
   "metadata": {},
   "outputs": [],
   "source": []
  },
  {
   "cell_type": "code",
   "execution_count": 15,
   "id": "159ae431",
   "metadata": {},
   "outputs": [
    {
     "data": {
      "image/png": "[encoded data removed]",
      "text/plain": [
       "<Figure size 432x288 with 1 Axes>"
      ]
     },
     "metadata": {
      "needs_background": "light"
     },
     "output_type": "display_data"
    }
   ],
   "source": [
    "res_each_factor = np.array(res_each_factor)\n",
    "each_weights_in_type = np.mean(res_each_factor, axis=0)\n",
    "x_axis = np.arange(1,5,1)\n",
    "plt.title(r'avg. of importance for the each factor')\n",
    "plt.bar(x_axis , each_weights_in_type ,color = 'orange', label=\"weight\")\n",
    "#plt.xlabel('feature type')\n",
    "plt.ylabel('importance')\n",
    "plt.xticks([])\n",
    "x_ori = [1,2,3,4]\n",
    "labels = ['B','C','D','E']\n",
    "plt.xticks(x_axis, labels)\n",
    "plt.show()"
   ]
  },
  {
   "cell_type": "code",
   "execution_count": null,
   "id": "1d25ca84",
   "metadata": {},
   "outputs": [],
   "source": []
  },
  {
   "cell_type": "code",
   "execution_count": null,
   "id": "8a2f6aa6",
   "metadata": {},
   "outputs": [],
   "source": []
  },
  {
   "cell_type": "code",
   "execution_count": null,
   "id": "d4d71129",
   "metadata": {},
   "outputs": [],
   "source": []
  },
  {
   "cell_type": "code",
   "execution_count": null,
   "id": "b40488e1",
   "metadata": {},
   "outputs": [],
   "source": []
  }
 ],
 "metadata": {
  "kernelspec": {
   "display_name": "Python 3",
   "language": "python",
   "name": "python3"
  },
  "language_info": {
   "codemirror_mode": {
    "name": "ipython",
    "version": 3
   },
   "file_extension": ".py",
   "mimetype": "text/x-python",
   "name": "python",
   "nbconvert_exporter": "python",
   "pygments_lexer": "ipython3",
   "version": "3.6.12"
  }
 },
 "nbformat": 4,
 "nbformat_minor": 5
}
